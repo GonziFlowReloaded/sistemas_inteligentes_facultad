{
 "cells": [
  {
   "cell_type": "code",
   "execution_count": null,
   "id": "95a03f87",
   "metadata": {},
   "outputs": [],
   "source": [
    "\n",
    "import pandas as pd\n",
    "\n",
    "archivo = 'dataset_2017_full_clean.csv'\n",
    "\n",
    "# Cargar el dataset\n",
    "df = pd.read_csv(archivo)\n",
    "\n",
    "# Eliminar las filas que contengan twhashtag, twmention de la columna 'tweet'\n",
    "\n",
    "df = df[~df['tweet'].str.contains('twhashtag|twmention', na=False)]\n",
    "\n",
    "# Eliminar las comillas de las filas\n",
    "df['tweet'] = df['tweet'].str.replace('\"', '', regex=False)\n",
    "\n",
    "# Eliminar los emojis de las filas\n",
    "df['tweet'] = df['tweet'].str.replace(r'[^\\x00-\\x7F]+', '', regex=True)\n",
    "\n",
    "\n",
    "\n"
   ]
  }
 ],
 "metadata": {
  "kernelspec": {
   "display_name": "venv",
   "language": "python",
   "name": "python3"
  },
  "language_info": {
   "name": "python",
   "version": "3.12.6"
  }
 },
 "nbformat": 4,
 "nbformat_minor": 5
}
